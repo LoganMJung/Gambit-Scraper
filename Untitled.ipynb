{
 "cells": [
  {
   "cell_type": "code",
   "execution_count": null,
   "metadata": {},
   "outputs": [],
   "source": [
    "#! pip install simplified_scrapy\n",
    "from simplified_scrapy.spider import Spider, SimplifiedDoc"
   ]
  },
  {
   "cell_type": "code",
   "execution_count": null,
   "metadata": {},
   "outputs": [],
   "source": [
    "class MySpider(Spider):\n",
    "  name = 'www.silverock.com'\n",
    "  allowed_domains = ['silverock.com']\n",
    "  # concurrencyPer1s=1\n",
    "  start_urls = 'http://www.silverock.com/'\n",
    "  refresh_urls = True # For debug. If efresh_urls = True, start_urls will be crawled again.\n",
    "\n",
    "  def extract(self, url, html, models, modelNames):\n",
    "    doc = SimplifiedDoc(html)\n",
    "    lstA = doc.listA(url=url['url'])\n",
    "    return {\"Urls\": lstA, \"Data\": None} # Return data to framework\n",
    "\n",
    "from simplified_scrapy.simplified_main import SimplifiedMain\n",
    "SimplifiedMain.startThread(MySpider()) # Start crawling"
   ]
  },
  {
   "cell_type": "code",
   "execution_count": null,
   "metadata": {},
   "outputs": [],
   "source": []
  }
 ],
 "metadata": {
  "kernelspec": {
   "display_name": "Python 3",
   "language": "python",
   "name": "python3"
  },
  "language_info": {
   "codemirror_mode": {
    "name": "ipython",
    "version": 3
   },
   "file_extension": ".py",
   "mimetype": "text/x-python",
   "name": "python",
   "nbconvert_exporter": "python",
   "pygments_lexer": "ipython3",
   "version": "3.8.5"
  }
 },
 "nbformat": 4,
 "nbformat_minor": 4
}
